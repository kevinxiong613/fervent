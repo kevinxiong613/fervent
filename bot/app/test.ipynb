{
 "cells": [
  {
   "cell_type": "code",
   "execution_count": 1,
   "metadata": {},
   "outputs": [],
   "source": [
    "import pandas as pd # IMPORTS"
   ]
  },
  {
   "cell_type": "code",
   "execution_count": 5,
   "metadata": {},
   "outputs": [
    {
     "data": {
      "text/plain": [
       "<bound method NDFrame.head of          target                                               text\n",
       "0             0                 r shoulda got david carr third day\n",
       "1             0  upset update facebook texting might cry result...\n",
       "2             0         dived many ball managed save rest go bound\n",
       "3             0                    whole body feel itchy like fire\n",
       "4             0                                 behaving mad e see\n",
       "...         ...                                                ...\n",
       "1599995       4                      woke school best feeling ever\n",
       "1599996       4                      ol hear old walt interview Ã¢\n",
       "1599997       4                         ready mojo makeover detail\n",
       "1599998       4      happy th birthday boo alll tupac amaru shakur\n",
       "1599999       4                               happy charitytuesday\n",
       "\n",
       "[1600000 rows x 2 columns]>"
      ]
     },
     "execution_count": 5,
     "metadata": {},
     "output_type": "execute_result"
    }
   ],
   "source": [
    "df = pd.read_csv(\"../output.csv\", encoding='ISO-8859-1', names = ['target', 'text'])\n",
    "df.head"
   ]
  }
 ],
 "metadata": {
  "kernelspec": {
   "display_name": "Python 3",
   "language": "python",
   "name": "python3"
  },
  "language_info": {
   "codemirror_mode": {
    "name": "ipython",
    "version": 3
   },
   "file_extension": ".py",
   "mimetype": "text/x-python",
   "name": "python",
   "nbconvert_exporter": "python",
   "pygments_lexer": "ipython3",
   "version": "3.9.12"
  }
 },
 "nbformat": 4,
 "nbformat_minor": 2
}
